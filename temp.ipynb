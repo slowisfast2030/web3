{
 "cells": [
  {
   "cell_type": "code",
   "execution_count": 6,
   "metadata": {},
   "outputs": [
    {
     "name": "stdout",
     "output_type": "stream",
     "text": [
      "[1, 2, 3, 4, 5, 6]\n"
     ]
    }
   ],
   "source": [
    "# write a bubble sort function\n",
    "def bubble_sort(arr):\n",
    "    \"\"\"\n",
    "    Sorts an array of integers in ascending order using the bubble sort algorithm.\n",
    "    Args:\n",
    "        arr (List[int]): List of integers to be sorted.\n",
    "    Returns:\n",
    "        List[int]: The sorted list of integers.\n",
    "    Example:\n",
    "        >>> bubble_sort([4, 2, 1, 3])\n",
    "        [1, 2, 3, 4]\n",
    "    \"\"\"\n",
    "    for i in range(len(arr)-1):\n",
    "        for j in range(len(arr)-i-1):\n",
    "            if arr[j] > arr[j+1]:\n",
    "                arr[j], arr[j+1] = arr[j+1], arr[j]\n",
    "    return arr\n",
    "\n",
    "# test\n",
    "if __name__ == '__main__':\n",
    "    arr = [1, 3, 2, 5, 4, 6]\n",
    "    print(bubble_sort(arr))"
   ]
  },
  {
   "cell_type": "code",
   "execution_count": 5,
   "metadata": {},
   "outputs": [
    {
     "name": "stdout",
     "output_type": "stream",
     "text": [
      "[1, 2, 3, 4, 5, 6]\n"
     ]
    }
   ],
   "source": [
    "# write a selection sort function\n",
    "def selection_sort(arr):\n",
    "    for i in range(len(arr)-1):\n",
    "        min_index = i\n",
    "        for j in range(i+1, len(arr)):\n",
    "            if arr[j] < arr[min_index]:\n",
    "                min_index = j\n",
    "        arr[i], arr[min_index] = arr[min_index], arr[i]\n",
    "    return arr\n",
    "\n",
    "# test\n",
    "if __name__ == '__main__':\n",
    "    arr = [1, 3, 2, 5, 4, 6]\n",
    "    print(selection_sort(arr))"
   ]
  },
  {
   "cell_type": "code",
   "execution_count": null,
   "metadata": {},
   "outputs": [],
   "source": [
    "# This function implements Selection Sort algorithm \n",
    "# which sorts an array by repeatedly selecting the minimum element \n",
    "# from the unsorted part of the array and placing it at the beginning.\n",
    "def selection_sort(arr):\n",
    "    for i in range(len(arr)-1):\n",
    "        # Assume first element as minimum\n",
    "        min_index = i\n",
    "        # Iterate through the rest of the array to find the actual minimum element index\n",
    "        for j in range(i+1, len(arr)):\n",
    "            if arr[j] < arr[min_index]:\n",
    "                min_index = j\n",
    "        # Swap minimum element with ith element (the start of unsorted part of the array)\n",
    "        arr[i], arr[min_index] = arr[min_index], arr[i]\n",
    "    return arr\n",
    "\n",
    "# Test code to verify the implementation of selection sort function\n",
    "if __name__ == '__main__':\n",
    "    arr = [1, 3, 2, 5, 4, 6]  # Input array to be sorted\n",
    "    print(selection_sort(arr))  # Prints the sorted array after applying selection sort algorithm\n"
   ]
  },
  {
   "cell_type": "code",
   "execution_count": 2,
   "metadata": {},
   "outputs": [
    {
     "name": "stdout",
     "output_type": "stream",
     "text": [
      "[1, 2, 3, 4, 5]\n"
     ]
    }
   ],
   "source": [
    "# write quick sort function\n",
    "def quick_sort(arr, low, high):\n",
    "    if low < high:\n",
    "        pivot = partition(arr, low, high)\n",
    "        quick_sort(arr, low, pivot-1)\n",
    "        quick_sort(arr, pivot+1, high)\n",
    "    return arr\n",
    "\n",
    "# partition function\n",
    "def partition(arr, low, high):\n",
    "    pivot = arr[high]\n",
    "    i = (low-1)\n",
    "    for j in range(low, high):\n",
    "        if arr[j] <= pivot:\n",
    "            i += 1\n",
    "            arr[i], arr[j] = arr[j], arr[i]\n",
    "    arr[i+1], arr[high] = arr[high], arr[i+1]\n",
    "    return i+1\n",
    "\n",
    "\n",
    "arr = [5, 3, 2, 1, 4]\n",
    "quick_sort(arr, 0, len(arr)-1)\n",
    "print(arr)"
   ]
  },
  {
   "cell_type": "code",
   "execution_count": 3,
   "metadata": {},
   "outputs": [
    {
     "name": "stdout",
     "output_type": "stream",
     "text": [
      "[3, 3, 10, 13, 18, 32, 34, 46, 50, 57, 59, 65, 66, 72, 73, 81, 83, 93, 96, 100]\n"
     ]
    }
   ],
   "source": [
    "import random\n",
    "\n",
    "def quick_sort(arr, low, high):\n",
    "    if low < high:\n",
    "        # Use insertion sort for small sub-arrays\n",
    "        if high - low < 10:\n",
    "            insertion_sort(arr, low, high)\n",
    "        else:\n",
    "            # Choose a good pivot\n",
    "            pivot_index = median_of_three(arr, low, high)\n",
    "            pivot = arr[pivot_index]\n",
    "            # Partition around the pivot index\n",
    "            i, j = hoare_partition(arr, low, high, pivot)\n",
    "            # Recursively sort two partitions\n",
    "            quick_sort(arr, low, i)\n",
    "            quick_sort(arr, j, high)\n",
    "\n",
    "def median_of_three(arr, low, high):\n",
    "    mid = (low + high) // 2\n",
    "    if arr[low] > arr[mid]:\n",
    "        arr[low], arr[mid] = arr[mid], arr[low]\n",
    "    if arr[mid] > arr[high]:\n",
    "        arr[mid], arr[high] = arr[high], arr[mid]\n",
    "    if arr[low] > arr[mid]:\n",
    "        arr[low], arr[mid] = arr[mid], arr[low]\n",
    "    return mid\n",
    "\n",
    "def hoare_partition(arr, low, high, pivot):\n",
    "    i = low - 1\n",
    "    j = high + 1\n",
    "    while True:\n",
    "        i += 1\n",
    "        while arr[i] < pivot:\n",
    "            i += 1\n",
    "        j -= 1\n",
    "        while arr[j] > pivot:\n",
    "            j -= 1\n",
    "        if i >= j:\n",
    "            return i, j+1\n",
    "        arr[i], arr[j] = arr[j], arr[i]\n",
    "\n",
    "def insertion_sort(arr, low, high):\n",
    "    for i in range(low+1, high+1):\n",
    "        key = arr[i]\n",
    "        j = i - 1\n",
    "        while j >= low and arr[j] > key:\n",
    "            arr[j+1] = arr[j]\n",
    "            j -= 1\n",
    "        arr[j+1] = key\n",
    "\n",
    "# Test the function with a random array\n",
    "arr = [random.randint(0, 100) for _ in range(20)]\n",
    "quick_sort(arr, 0, len(arr)-1)\n",
    "print(arr)\n"
   ]
  },
  {
   "cell_type": "code",
   "execution_count": null,
   "metadata": {},
   "outputs": [],
   "source": []
  },
  {
   "cell_type": "code",
   "execution_count": null,
   "metadata": {},
   "outputs": [],
   "source": []
  },
  {
   "cell_type": "code",
   "execution_count": null,
   "metadata": {},
   "outputs": [],
   "source": []
  },
  {
   "cell_type": "code",
   "execution_count": null,
   "metadata": {},
   "outputs": [],
   "source": []
  },
  {
   "cell_type": "code",
   "execution_count": null,
   "metadata": {},
   "outputs": [],
   "source": []
  }
 ],
 "metadata": {
  "kernelspec": {
   "display_name": "chatgpt",
   "language": "python",
   "name": "python3"
  },
  "language_info": {
   "codemirror_mode": {
    "name": "ipython",
    "version": 3
   },
   "file_extension": ".py",
   "mimetype": "text/x-python",
   "name": "python",
   "nbconvert_exporter": "python",
   "pygments_lexer": "ipython3",
   "version": "3.10.9"
  },
  "orig_nbformat": 4
 },
 "nbformat": 4,
 "nbformat_minor": 2
}
