{
 "cells": [
  {
   "cell_type": "code",
   "execution_count": 6,
   "metadata": {},
   "outputs": [
    {
     "name": "stdout",
     "output_type": "stream",
     "text": [
      "[1, 2, 3, 4, 5, 6]\n"
     ]
    }
   ],
   "source": [
    "# write a bubble sort function\n",
    "def bubble_sort(arr):\n",
    "    \"\"\"\n",
    "    Sorts an array of integers in ascending order using the bubble sort algorithm.\n",
    "    Args:\n",
    "        arr (List[int]): List of integers to be sorted.\n",
    "    Returns:\n",
    "        List[int]: The sorted list of integers.\n",
    "    Example:\n",
    "        >>> bubble_sort([4, 2, 1, 3])\n",
    "        [1, 2, 3, 4]\n",
    "    \"\"\"\n",
    "    for i in range(len(arr)-1):\n",
    "        for j in range(len(arr)-i-1):\n",
    "            if arr[j] > arr[j+1]:\n",
    "                arr[j], arr[j+1] = arr[j+1], arr[j]\n",
    "    return arr\n",
    "\n",
    "# test\n",
    "if __name__ == '__main__':\n",
    "    arr = [1, 3, 2, 5, 4, 6]\n",
    "    print(bubble_sort(arr))"
   ]
  },
  {
   "cell_type": "code",
   "execution_count": 5,
   "metadata": {},
   "outputs": [
    {
     "name": "stdout",
     "output_type": "stream",
     "text": [
      "[1, 2, 3, 4, 5, 6]\n"
     ]
    }
   ],
   "source": [
    "# write a selection sort function\n",
    "def selection_sort(arr):\n",
    "    for i in range(len(arr)-1):\n",
    "        min_index = i\n",
    "        for j in range(i+1, len(arr)):\n",
    "            if arr[j] < arr[min_index]:\n",
    "                min_index = j\n",
    "        arr[i], arr[min_index] = arr[min_index], arr[i]\n",
    "    return arr\n",
    "\n",
    "# test\n",
    "if __name__ == '__main__':\n",
    "    arr = [1, 3, 2, 5, 4, 6]\n",
    "    print(selection_sort(arr))"
   ]
  },
  {
   "cell_type": "code",
   "execution_count": null,
   "metadata": {},
   "outputs": [],
   "source": [
    "# This function implements Selection Sort algorithm \n",
    "# which sorts an array by repeatedly selecting the minimum element \n",
    "# from the unsorted part of the array and placing it at the beginning.\n",
    "def selection_sort(arr):\n",
    "    for i in range(len(arr)-1):\n",
    "        # Assume first element as minimum\n",
    "        min_index = i\n",
    "        # Iterate through the rest of the array to find the actual minimum element index\n",
    "        for j in range(i+1, len(arr)):\n",
    "            if arr[j] < arr[min_index]:\n",
    "                min_index = j\n",
    "        # Swap minimum element with ith element (the start of unsorted part of the array)\n",
    "        arr[i], arr[min_index] = arr[min_index], arr[i]\n",
    "    return arr\n",
    "\n",
    "# Test code to verify the implementation of selection sort function\n",
    "if __name__ == '__main__':\n",
    "    arr = [1, 3, 2, 5, 4, 6]  # Input array to be sorted\n",
    "    print(selection_sort(arr))  # Prints the sorted array after applying selection sort algorithm\n"
   ]
  },
  {
   "cell_type": "code",
   "execution_count": 2,
   "metadata": {},
   "outputs": [
    {
     "name": "stdout",
     "output_type": "stream",
     "text": [
      "[1, 2, 3, 4, 5]\n"
     ]
    }
   ],
   "source": [
    "# write quick sort function\n",
    "def quick_sort(arr, low, high):\n",
    "    if low < high:\n",
    "        pivot = partition(arr, low, high)\n",
    "        quick_sort(arr, low, pivot-1)\n",
    "        quick_sort(arr, pivot+1, high)\n",
    "    return arr\n",
    "\n",
    "# partition function\n",
    "def partition(arr, low, high):\n",
    "    pivot = arr[high]\n",
    "    i = (low-1)\n",
    "    for j in range(low, high):\n",
    "        if arr[j] <= pivot:\n",
    "            i += 1\n",
    "            arr[i], arr[j] = arr[j], arr[i]\n",
    "    arr[i+1], arr[high] = arr[high], arr[i+1]\n",
    "    return i+1\n",
    "\n",
    "\n",
    "arr = [5, 3, 2, 1, 4]\n",
    "quick_sort(arr, 0, len(arr)-1)\n",
    "print(arr)"
   ]
  },
  {
   "cell_type": "code",
   "execution_count": 1,
   "metadata": {},
   "outputs": [
    {
     "name": "stdout",
     "output_type": "stream",
     "text": [
      "[1, 10, 16, 16, 17, 19, 23, 26, 29, 37, 37, 42, 46, 48, 50, 52, 63, 85, 88, 90]\n"
     ]
    }
   ],
   "source": [
    "import random\n",
    "\n",
    "def quick_sort(arr, low, high):\n",
    "    if low < high:\n",
    "        # Use insertion sort for small sub-arrays\n",
    "        if high - low < 10:\n",
    "            insertion_sort(arr, low, high)\n",
    "        else:\n",
    "            # Choose a good pivot\n",
    "            pivot_index = median_of_three(arr, low, high)\n",
    "            pivot = arr[pivot_index]\n",
    "            # Partition around the pivot index\n",
    "            i, j = hoare_partition(arr, low, high, pivot)\n",
    "            # Recursively sort two partitions\n",
    "            quick_sort(arr, low, i)\n",
    "            quick_sort(arr, j, high)\n",
    "\n",
    "def median_of_three(arr, low, high):\n",
    "    mid = (low + high) // 2\n",
    "    if arr[low] > arr[mid]:\n",
    "        arr[low], arr[mid] = arr[mid], arr[low]\n",
    "    if arr[mid] > arr[high]:\n",
    "        arr[mid], arr[high] = arr[high], arr[mid]\n",
    "    if arr[low] > arr[mid]:\n",
    "        arr[low], arr[mid] = arr[mid], arr[low]\n",
    "    return mid\n",
    "\n",
    "def hoare_partition(arr, low, high, pivot):\n",
    "    i = low - 1\n",
    "    j = high + 1\n",
    "    while True:\n",
    "        i += 1\n",
    "        while arr[i] < pivot:\n",
    "            i += 1\n",
    "        j -= 1\n",
    "        while arr[j] > pivot:\n",
    "            j -= 1\n",
    "        if i >= j:\n",
    "            return i, j+1\n",
    "        arr[i], arr[j] = arr[j], arr[i]\n",
    "\n",
    "def insertion_sort(arr, low, high):\n",
    "    for i in range(low+1, high+1):\n",
    "        key = arr[i]\n",
    "        j = i - 1\n",
    "        while j >= low and arr[j] > key:\n",
    "            arr[j+1] = arr[j]\n",
    "            j -= 1\n",
    "        arr[j+1] = key\n",
    "\n",
    "# Test the function with a random array\n",
    "arr = [random.randint(0, 100) for _ in range(20)]\n",
    "quick_sort(arr, 0, len(arr)-1)\n",
    "print(arr)\n"
   ]
  },
  {
   "cell_type": "code",
   "execution_count": 2,
   "metadata": {},
   "outputs": [
    {
     "name": "stdout",
     "output_type": "stream",
     "text": [
      "3\n"
     ]
    }
   ],
   "source": [
    "# 计算两个字符串的编辑距离\n",
    "def edit_distance(s1, s2):\n",
    "    m = len(s1)\n",
    "    n = len(s2)\n",
    "    dp = [[0 for _ in range(n+1)] for _ in range(m+1)]\n",
    "    for i in range(m+1):\n",
    "        dp[i][0] = i\n",
    "    for j in range(n+1):\n",
    "        dp[0][j] = j\n",
    "    for i in range(1, m+1):\n",
    "        for j in range(1, n+1):\n",
    "            if s1[i-1] == s2[j-1]:\n",
    "                dp[i][j] = min(dp[i-1][j-1], dp[i-1][j]+1, dp[i][j-1]+1)\n",
    "            else:\n",
    "                dp[i][j] = min(dp[i-1][j-1]+1, dp[i-1][j]+1, dp[i][j-1]+1)\n",
    "    return dp[m][n]\n",
    "\n",
    "# Test code to verify the implementation of edit distance function\n",
    "if __name__ == '__main__':\n",
    "    s1 = 'kitten'\n",
    "    s2 = 'sitting'\n",
    "    print(edit_distance(s1, s2))"
   ]
  },
  {
   "cell_type": "code",
   "execution_count": null,
   "metadata": {},
   "outputs": [],
   "source": [
    "import random\n",
    "\n",
    "# Define the parameters for the simulation\n",
    "NUM_HOSTS = 10      # Number of hosts in the network\n",
    "CHANNEL_CAPACITY = 10  # Maximum number of packets that can be transmitted by a host per second\n",
    "PACKET_LENGTH = 1000    # Length of packet in bits\n",
    "SIM_TIME = 10000   # Total simulation time in seconds\n",
    "\n",
    "def simulate_csma():\n",
    "    # Initialize all the hosts with random start times\n",
    "    hosts = [{'backoff': random.randint(0, 15), 'collision_count': 0} for i in range(NUM_HOSTS)]\n",
    "    channel = []    # To keep track of packets in the channel\n",
    "    \n",
    "    # Start the simulation loop\n",
    "    for t in range(SIM_TIME):\n",
    "        # Check if any packets have arrived to the channel this second\n",
    "        for i in range(NUM_HOSTS):\n",
    "            if random.random() < 0.1:    # 10% chance that a host sends a packet each second\n",
    "                if len(channel) < CHANNEL_CAPACITY:\n",
    "                    # Add packet to the channel\n",
    "                    channel.append(i)\n",
    "        \n",
    "        # Transmit packets in the channel\n",
    "        if len(channel) > 0:\n",
    "            transmission_successful = True\n",
    "            for i in channel:\n",
    "                # Check if the host has a packet ready to transmit and is not waiting due to backoff\n",
    "                if hosts[i]['backoff'] == 0:\n",
    "                    # Calculate the probability of collision\n",
    "                    p_collision = len(channel) / CHANNEL_CAPACITY\n",
    "                    # Check if there's a collision\n",
    "                    if random.random() < p_collision:\n",
    "                        # Collision occurred\n",
    "                        hosts[i]['collision_count'] += 1\n",
    "                        hosts[i]['backoff'] = min((2**hosts[i]['collision_count']) - 1, 1023)\n",
    "                        transmission_successful = False\n",
    "                    else:\n",
    "                        # Transmission successful\n",
    "                        hosts[i]['collision_count'] = 0\n",
    "                        channel.remove(i)\n",
    "                        transmission_successful = True\n",
    "                        break\n",
    "                        \n",
    "            # If none of the packets were transmitted successfully, increment backoff for each host with packets in the channel\n",
    "            if not transmission_successful:\n",
    "                for i in channel:\n",
    "                    hosts[i]['backoff'] = max(hosts[i]['backoff'] - 1, 0)\n",
    "        \n",
    "        # Decrement the backoff of all hosts (whether they have packets to send or not)\n",
    "        for i in range(NUM_HOSTS):\n",
    "            hosts[i]['backoff'] = max(hosts[i]['backoff'] - 1, 0)\n",
    "    \n",
    "    # Print the number of collisions for each host\n",
    "    print(\"Number of Collisions:\")\n",
    "    for i in range(NUM_HOSTS):\n",
    "        print(f\"Host {i}: {hosts[i]['collision_count']}\")\n",
    "\n",
    "# Run the simulation\n",
    "simulate_csma()\n"
   ]
  },
  {
   "cell_type": "code",
   "execution_count": 4,
   "metadata": {},
   "outputs": [
    {
     "name": "stdout",
     "output_type": "stream",
     "text": [
      "3\n"
     ]
    }
   ],
   "source": [
    "# write binary search function\n",
    "def binary_search(arr, target):\n",
    "    low = 0\n",
    "    high = len(arr) - 1\n",
    "    while low <= high:\n",
    "        mid = (low + high) // 2\n",
    "        if arr[mid] == target:\n",
    "            return mid\n",
    "        elif arr[mid] < target:\n",
    "            low = mid + 1\n",
    "        else:\n",
    "            high = mid - 1\n",
    "    return -1\n",
    "\n",
    "if __name__ == '__main__':\n",
    "    arr = [1, 2, 3, 4, 5]\n",
    "    print(binary_search(arr, 4))\n",
    "\n",
    "\n",
    "\n"
   ]
  },
  {
   "cell_type": "code",
   "execution_count": 6,
   "metadata": {},
   "outputs": [
    {
     "name": "stdout",
     "output_type": "stream",
     "text": [
      "15\n"
     ]
    }
   ],
   "source": [
    "# write a function to find the maximum subarray sum\n",
    "def max_subarray_sum(arr):\n",
    "    max_sum = arr[0]\n",
    "    for i in range(1, len(arr)):\n",
    "        max_sum = max(max_sum + arr[i], arr[i])\n",
    "    return max_sum\n",
    "\n",
    "\n",
    "if __name__ == '__main__':\n",
    "    arr = [1, 2, 3, 4, 5]\n",
    "    print(max_subarray_sum(arr))"
   ]
  },
  {
   "cell_type": "code",
   "execution_count": 1,
   "metadata": {},
   "outputs": [
    {
     "name": "stdout",
     "output_type": "stream",
     "text": [
      "[2, 3, 5, 10]\n"
     ]
    }
   ],
   "source": [
    "# write a quick sort function\n",
    "def qucik_sort(arr):\n",
    "    if len(arr) < 2:\n",
    "        return arr\n",
    "    else:\n",
    "        pivot = arr[0]\n",
    "        less = [i for i in arr[1:] if i <= pivot]\n",
    "        greater = [i for i in arr[1:] if i > pivot]\n",
    "        return qucik_sort(less) + [pivot] + qucik_sort(greater)\n",
    "    \n",
    "\n",
    "if __name__ == \"__main__\":\n",
    "    print(qucik_sort([10,5,2,3]))\n",
    "    "
   ]
  },
  {
   "cell_type": "code",
   "execution_count": null,
   "metadata": {},
   "outputs": [],
   "source": []
  },
  {
   "cell_type": "code",
   "execution_count": null,
   "metadata": {},
   "outputs": [],
   "source": []
  }
 ],
 "metadata": {
  "kernelspec": {
   "display_name": "chatgpt",
   "language": "python",
   "name": "python3"
  },
  "language_info": {
   "codemirror_mode": {
    "name": "ipython",
    "version": 3
   },
   "file_extension": ".py",
   "mimetype": "text/x-python",
   "name": "python",
   "nbconvert_exporter": "python",
   "pygments_lexer": "ipython3",
   "version": "3.10.9"
  },
  "orig_nbformat": 4
 },
 "nbformat": 4,
 "nbformat_minor": 2
}
